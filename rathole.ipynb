{
 "cells": [
  {
   "attachments": {},
   "cell_type": "markdown",
   "id": "87f0ef66",
   "metadata": {},
   "source": [
    "# SD Rathole"
   ]
  },
  {
   "attachments": {},
   "cell_type": "markdown",
   "id": "86b693f6",
   "metadata": {},
   "source": [
    "Paperspace automatically ends api calls that last longer than 60 seconds which makes it impossible to generate hgiherquality SD images. Running this notebook on a seperate kernel but on the same machine as the SD notebook will let you bypass paperspaces network timeout."
   ]
  },
  {
   "attachments": {},
   "cell_type": "markdown",
   "id": "98bde004",
   "metadata": {},
   "source": [
    "### Download Requirements"
   ]
  },
  {
   "cell_type": "code",
   "execution_count": null,
   "id": "7d857d7e-a8ad-4ebe-ace3-c0c3c90ca07f",
   "metadata": {
    "execution": {
     "iopub.execute_input": "2023-04-14T18:47:17.998165Z",
     "iopub.status.busy": "2023-04-14T18:47:17.997801Z",
     "iopub.status.idle": "2023-04-14T18:47:28.722466Z",
     "shell.execute_reply": "2023-04-14T18:47:28.721502Z",
     "shell.execute_reply.started": "2023-04-14T18:47:17.998101Z"
    }
   },
   "outputs": [],
   "source": [
    "import subprocess\n",
    "\n",
    "command = \"sudo apt install unzip; mkdir -p /notebooks/rathole/;\"\n",
    "command +=\"LATEST_RELASE=$(curl -s https://api.github.com/repos/rapiz1/rathole/releases/latest | grep browser_download_url | cut -d '\\\"' -f 4 | grep \\\"rathole-x86_64-unknown-linux-gnu.zip\\\");\"\n",
    "command +=\"TMP=$(mktemp -d);wget \\\"$LATEST_RELASE\\\" -O $TMP/rathole-x86_64-unknown-linux-gnu.zip;sudo unzip $TMP/rathole-x86_64-unknown-linux-gnu.zip -d /notebooks/rathole/;rm -rf $TMP\"\n",
    "ret = subprocess.run(command, capture_output=True, shell=True)\n",
    "print(ret.stdout.decode())\n"
   ]
  },
  {
   "attachments": {},
   "cell_type": "markdown",
   "id": "b0628517",
   "metadata": {},
   "source": [
    "### Launch Rathole"
   ]
  },
  {
   "cell_type": "code",
   "execution_count": null,
   "id": "e8d029ea-a142-4625-80b3-eaae62ced394",
   "metadata": {
    "execution": {
     "iopub.execute_input": "2023-05-21T07:48:32.259349Z",
     "iopub.status.busy": "2023-05-21T07:48:32.258164Z"
    }
   },
   "outputs": [],
   "source": [
    "import subprocess\n",
    "\n",
    "command = \"cd /notebooks/rathole; pwd;./rathole -c client.toml\"\n",
    "ret = subprocess.run(command, capture_output=True, shell=True)\n",
    "print(ret.stderr.decode())"
   ]
  }
 ],
 "metadata": {
  "kernelspec": {
   "display_name": "Python 3 (ipykernel)",
   "language": "python",
   "name": "python3"
  },
  "language_info": {
   "codemirror_mode": {
    "name": "ipython",
    "version": 3
   },
   "file_extension": ".py",
   "mimetype": "text/x-python",
   "name": "python",
   "nbconvert_exporter": "python",
   "pygments_lexer": "ipython3",
   "version": "3.9.13"
  }
 },
 "nbformat": 4,
 "nbformat_minor": 5
}
